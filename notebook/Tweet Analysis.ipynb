{
 "cells": [
  {
   "cell_type": "markdown",
   "metadata": {},
   "source": [
    "### TWEET SENTIMENT ANALYSIS"
   ]
  },
  {
   "cell_type": "markdown",
   "metadata": {},
   "source": [
    "##### IMPORT LIBRARIES"
   ]
  },
  {
   "cell_type": "code",
   "execution_count": 1,
   "metadata": {},
   "outputs": [],
   "source": [
    "import pandas as pd\n",
    "import re \n",
    "import tweepy \n",
    "from tweepy import OAuthHandler \n",
    "from textblob import TextBlob "
   ]
  },
  {
   "cell_type": "markdown",
   "metadata": {},
   "source": [
    "##### LOAD CLASSES AND FUNCTIONS"
   ]
  },
  {
   "cell_type": "code",
   "execution_count": 11,
   "metadata": {},
   "outputs": [],
   "source": [
    "class TwitterClient(object): \n",
    "    ''' \n",
    "    Generic Twitter Class for sentiment analysis. \n",
    "    '''\n",
    "#    def __init__(self): \n",
    "#        ''' \n",
    "#        Class constructor or initialization method. \n",
    "#        '''\n",
    "#        # keys and tokens from the Twitter Dev Console \n",
    "#        consumer_key = 'XXXXXXXXXXXXXXXXXXXXXXXX'\n",
    "#        consumer_secret = 'XXXXXXXXXXXXXXXXXXXXXXXXXXXX'\n",
    "#        access_token = 'XXXXXXXXXXXXXXXXXXXXXXXXXXXX'\n",
    "#        access_token_secret = 'XXXXXXXXXXXXXXXXXXXXXXXXX'\n",
    "#  \n",
    "#        # attempt authentication \n",
    "#        try: \n",
    "#            # create OAuthHandler object \n",
    "#            self.auth = OAuthHandler(consumer_key, consumer_secret) \n",
    "#            # set access token and secret \n",
    "#            self.auth.set_access_token(access_token, access_token_secret) \n",
    "#            # create tweepy API object to fetch tweets \n",
    "#            self.api = tweepy.API(self.auth) \n",
    "#        except: \n",
    "#            print(\"Error: Authentication Failed\") \n",
    "  \n",
    "    def clean_tweet(self, tweet): \n",
    "        ''' \n",
    "        Utility function to clean tweet text by removing links, special characters \n",
    "        using simple regex statements. \n",
    "        '''\n",
    "        return ' '.join(re.sub(\"\"\"(@[A-Za-z0-9]+)|([^0-9A-Za-z \\t])|(\\w+:\\/\\/\\S+)\"\"\", \" \", tweet).split()) \n",
    "  \n",
    "    def get_tweet_sentiment(self, tweet): \n",
    "        ''' \n",
    "        Utility function to classify sentiment of passed tweet \n",
    "        using textblob's sentiment method \n",
    "        '''\n",
    "        # create TextBlob object of passed tweet text \n",
    "        analysis = TextBlob(self.clean_tweet(tweet)) \n",
    "        # set sentiment \n",
    "        if analysis.sentiment.polarity > 0: \n",
    "            return 'positive'\n",
    "        elif analysis.sentiment.polarity == 0: \n",
    "            return 'neutral'\n",
    "        else: \n",
    "            return 'negative'\n",
    "  \n",
    "    def get_tweets_from_df(self, author, count = 1): \n",
    "        ''' \n",
    "        Main function to fetch tweets and parse them. \n",
    "        '''\n",
    "  \n",
    "        tweets_df = pd.read_csv('..//data//tweets_kaggle.csv')[['handle','text','original_author']]\n",
    "        tweets_df.original_author = tweets_df.original_author.apply(str)\n",
    "            \n",
    "        tweets_df = tweets_df[tweets_df['original_author']=='nan'][['handle','text']]\n",
    "        fetched_tweets = tweets_df[tweets_df.handle == author].text\n",
    "\n",
    "        return fetched_tweets \n",
    "    \n",
    "    def analyze_tweets(self,fetched_tweets):\n",
    "        \n",
    "        # empty list to store parsed tweets \n",
    "        tweets = [] \n",
    "        # parsing tweets one by one \n",
    "        for tweet in fetched_tweets: \n",
    "            # empty dictionary to store required params of a tweet \n",
    "            parsed_tweet = {} \n",
    "  \n",
    "            # saving text of tweet \n",
    "            parsed_tweet['text'] = tweet\n",
    "            # saving sentiment of tweet \n",
    "            parsed_tweet['sentiment'] = self.get_tweet_sentiment(tweet) \n",
    "  \n",
    "            # appending parsed tweet to tweets list \n",
    "            tweets.append(parsed_tweet) \n",
    "  \n",
    "        # return parsed tweets \n",
    "        return tweets\n",
    "\n",
    "    def get_one_tweet(self, fetched_tweets): \n",
    "        ''' \n",
    "        Main function to fetch custom tweets and parse them. \n",
    "        '''\n",
    "        tweets = []\n",
    "        try: \n",
    "            \n",
    "            # parsing tweets one by one \n",
    "            for tweet in fetched_tweets: \n",
    "                # empty dictionary to store required params of a tweet \n",
    "                parsed_tweet = {} \n",
    "  \n",
    "                # saving text of tweet \n",
    "                parsed_tweet['text'] = tweet\n",
    "                # saving sentiment of tweet \n",
    "                parsed_tweet['sentiment'] = self.get_tweet_sentiment(tweet) \n",
    "  \n",
    "                # appending parsed tweet to tweets list \n",
    "                tweets.append(parsed_tweet) \n",
    "  \n",
    "            # return parsed tweets \n",
    "            return tweets\n",
    "  \n",
    "        except tweepy.TweepError as e: \n",
    "            # print error (if any) \n",
    "            print(\"Error : \" + str(e)) \n",
    "    \n",
    "    def print_tweet_sentiment(self,tweets):\n",
    "        \n",
    "        # picking positive tweets from tweets \n",
    "        ptweets = [tweet for tweet in tweets if tweet['sentiment'] == 'positive'] \n",
    "        # percentage of positive tweets \n",
    "        print(\"Positive tweets percentage: {} %\".format(100*len(ptweets)/len(tweets))) \n",
    "        # picking negative tweets from tweets \n",
    "        ntweets = [tweet for tweet in tweets if tweet['sentiment'] == 'negative'] \n",
    "        # percentage of negative tweets \n",
    "        print(\"Negative tweets percentage: {}%\".format(100*len(ntweets)/len(tweets))) \n",
    "        # percentage of neutral tweets \n",
    "        print(\"Neutral tweets percentage: {}%\".format(100*(len(tweets) - len(ntweets) - len(ptweets))/len(tweets))) \n",
    "  \n",
    "        # printing first 5 positive tweets \n",
    "        print(\"\\n\\nPositive tweets:\") \n",
    "        for tweet in ptweets[:5]: \n",
    "            print(tweet['text']) \n",
    "  \n",
    "        # printing first 5 negative tweets \n",
    "        print(\"\\n\\nNegative tweets:\") \n",
    "        for tweet in ntweets[:5]: \n",
    "            print(tweet['text']) \n",
    "        \n",
    "        return"
   ]
  },
  {
   "cell_type": "markdown",
   "metadata": {},
   "source": [
    "### TEST ON HILLARY CLINTON vs DONALD TRUMP DATASET"
   ]
  },
  {
   "cell_type": "code",
   "execution_count": 18,
   "metadata": {},
   "outputs": [],
   "source": [
    "def main_from_df(author): \n",
    "    # calling function to get tweets \n",
    "    api = TwitterClient()\n",
    "    \n",
    "    tweets_list = api.get_tweets_from_df(author)\n",
    "    \n",
    "    tweets_sentiment = api.analyze_tweets(tweets_list) \n",
    "    \n",
    "    api.print_tweet_sentiment(tweets_sentiment)\n",
    "    \n",
    "    return"
   ]
  },
  {
   "cell_type": "code",
   "execution_count": 19,
   "metadata": {},
   "outputs": [
    {
     "name": "stdout",
     "output_type": "stream",
     "text": [
      "Positive tweets percentage: 48.43194309731652 %\n",
      "Negative tweets percentage: 20.982864532816038%\n",
      "Neutral tweets percentage: 30.585192369867443%\n",
      "\n",
      "\n",
      "Positive tweets:\n",
      "'CNBC, Time magazine online polls say Donald Trump won the first presidential debate' via @WashTimes. #MAGA\n",
      "https://t.co/PGimqYKPoJ\n",
      "Great afternoon in Little Havana with Hispanic community leaders. Thank you for your support! #ImWithYou https://t.co/vxWZ2tyJTF\n",
      "Well, now they're saying that I not only won the NBC Presidential Forum, but last night the big debate. Nice!\n",
      "Such a great honor. Final debate polls are in - and the MOVEMENT wins!\n",
      "#AmericaFirst #MAGA #ImWithYou… https://t.co/DV1BKMwHEM\n",
      "'True blue-collar billionaire Donald Trump shows Hillary Clinton is out of touch' https://t.co/NHO1OicfVm\n",
      "\n",
      "\n",
      "Negative tweets:\n",
      "Join me for a 3pm rally - tomorrow at the Mid-America Center in Council Bluffs, Iowa! Tickets:… https://t.co/dfzsbICiXc\n",
      "Hillary Clinton's Campaign Continues To Make False Claims About Foundation Disclosure: \n",
      "https://t.co/zhkEfUouHH\n",
      "I won every poll from last nights Presidential Debate - except for the little watched @CNN poll.\n",
      "Nothing on emails. Nothing on the corrupt Clinton Foundation. And nothing on #Benghazi. #Debates2016 #debatenight\n",
      "Hillary Clinton failed all over the world. \n",
      "❌LIBYA\n",
      "❌SYRIA\n",
      "❌IRAN\n",
      "❌IRAQ\n",
      "❌ASIA PIVOT\n",
      "❌RUSSIAN RESET\n",
      "❌BENGHAZI… https://t.co/OoakXs2rij\n"
     ]
    }
   ],
   "source": [
    "if __name__ == \"__main__\": \n",
    "    # calling main function \n",
    "    main_from_df('realDonaldTrump')"
   ]
  },
  {
   "cell_type": "code",
   "execution_count": 20,
   "metadata": {},
   "outputs": [
    {
     "name": "stdout",
     "output_type": "stream",
     "text": [
      "Positive tweets percentage: 45.53062000760745 %\n",
      "Negative tweets percentage: 16.85051350323317%\n",
      "Neutral tweets percentage: 37.61886648915937%\n",
      "\n",
      "\n",
      "Positive tweets:\n",
      "The question in this election: Who can put the plans into action that will make your life better? https://t.co/XreEY9OicG\n",
      "If we stand together, there's nothing we can't do. \n",
      "\n",
      "Make sure you're ready to vote: https://t.co/tTgeqxNqYm https://t.co/Q3Ymbb7UNy\n",
      "Both candidates were asked about how they'd confront racial injustice. Only one had a real answer. https://t.co/sjnEokckis\n",
      "This election is too important to sit out. Go to https://t.co/tTgeqxNqYm and make sure you're registered. #NationalVoterRegistrationDay -H\n",
      "“She gained about 55 pounds in...9 months. She was like an eating machine.” —Trump, a man who wants to be president: https://t.co/1ht91eZCyw\n",
      "\n",
      "\n",
      "Negative tweets:\n",
      "Donald Trump lied to the American people at least 58 times during the first presidential debate. (We counted.) https://t.co/h43O6Rws4S\n",
      "We don’t want to turn against each other.\n",
      "We want to work with one another.\n",
      "We want to set big goals in this country.\n",
      "#StrongerTogether\n",
      "\"What we hear from my opponent is dangerously incoherent. It's unclear what he's saying, but words matter.\" —Hillary\n",
      "When you work hard, you should not be living in poverty. https://t.co/86sTOCAkkq\n",
      "We’ve got to address the systemic racism in our criminal justice system and end private prisons. #DebateNight https://t.co/8afCXJAAjI\n"
     ]
    }
   ],
   "source": [
    "if __name__ == \"__main__\": \n",
    "    # calling main function \n",
    "    main_from_df('HillaryClinton')"
   ]
  },
  {
   "cell_type": "markdown",
   "metadata": {},
   "source": [
    "### TEST ON CUSTOM TWEETS"
   ]
  },
  {
   "cell_type": "code",
   "execution_count": 21,
   "metadata": {},
   "outputs": [],
   "source": [
    "def main_from_user(tweets_list): \n",
    "    # calling function to get tweets \n",
    "    api = TwitterClient()\n",
    "    \n",
    "    tweets_sentiment = api.analyze_tweets(tweets_list) \n",
    "    \n",
    "    api.print_tweet_sentiment(tweets_sentiment)\n",
    "    \n",
    "    return"
   ]
  },
  {
   "cell_type": "code",
   "execution_count": 23,
   "metadata": {},
   "outputs": [
    {
     "name": "stdout",
     "output_type": "stream",
     "text": [
      "Positive tweets percentage: 33.333333333333336 %\n",
      "Negative tweets percentage: 33.333333333333336%\n",
      "Neutral tweets percentage: 33.333333333333336%\n",
      "\n",
      "\n",
      "Positive tweets:\n",
      "i love you all\n",
      "\n",
      "\n",
      "Negative tweets:\n",
      "i hate you all\n"
     ]
    }
   ],
   "source": [
    "if __name__ == \"__main__\": \n",
    "    # calling main function\n",
    "    my_tweets = ['i hate you all', 'i love you all', 'i don t care']\n",
    "    \n",
    "    main_from_user(my_tweets)"
   ]
  },
  {
   "cell_type": "code",
   "execution_count": null,
   "metadata": {},
   "outputs": [],
   "source": []
  }
 ],
 "metadata": {
  "kernelspec": {
   "display_name": "Python 3",
   "language": "python",
   "name": "python3"
  },
  "language_info": {
   "codemirror_mode": {
    "name": "ipython",
    "version": 3
   },
   "file_extension": ".py",
   "mimetype": "text/x-python",
   "name": "python",
   "nbconvert_exporter": "python",
   "pygments_lexer": "ipython3",
   "version": "3.6.7"
  }
 },
 "nbformat": 4,
 "nbformat_minor": 2
}
